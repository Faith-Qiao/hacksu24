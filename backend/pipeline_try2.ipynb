{
 "cells": [
  {
   "cell_type": "code",
   "execution_count": 54,
   "metadata": {},
   "outputs": [],
   "source": [
    "from transformers import AutoTokenizer, AutoModelForSeq2SeqLM\n",
    "from diffusers import StableDiffusion3Pipeline\n",
    "import torch\n",
    "from huggingface_hub import login\n",
    "import os\n",
    "import os\n",
    "import openai\n"
   ]
  },
  {
   "cell_type": "code",
   "execution_count": 55,
   "metadata": {},
   "outputs": [],
   "source": [
    "openai.api_key = 'sk-proj-YBEJ1hO2c9BrtzPbEp4uT3BlbkFJlgE2E9VQyWKrzTAUgmcv'"
   ]
  },
  {
   "cell_type": "code",
   "execution_count": 66,
   "metadata": {},
   "outputs": [],
   "source": [
    "def get_text_from_messages(messages, \n",
    "                                 model=\"gpt-3.5-turbo\", \n",
    "                                 temperature=0, \n",
    "                                 max_tokens=4096):\n",
    "    response = openai.ChatCompletion.create(\n",
    "        model=model,\n",
    "        messages=messages,\n",
    "        temperature=temperature,\n",
    "        max_tokens=max_tokens,\n",
    "    )\n",
    "    return response.choices[0].message[\"content\"]"
   ]
  },
  {
   "cell_type": "code",
   "execution_count": 67,
   "metadata": {},
   "outputs": [],
   "source": [
    "def generate_image_from_description(description, size=\"1024x1024\"):\n",
    "    response = openai.Image.create(\n",
    "        prompt=description,\n",
    "        n=1,\n",
    "        size=size\n",
    "    )\n",
    "    return response['data'][0]['url']"
   ]
  },
  {
   "cell_type": "code",
   "execution_count": 58,
   "metadata": {},
   "outputs": [
    {
     "name": "stdout",
     "output_type": "stream",
     "text": [
      "Eckels stood in front of a sign that advertised Time Safari, Inc., offering safaris to any year in the past where you could name the animal, shoot it, and bring it back. Despite feeling uneasy, Eckels handed over a check for ten thousand dollars to the official, asking if the safari guaranteed his return. The official only guaranteed the presence of dinosaurs and introduced Mr. Travis as the Safari Guide. Eckels observed the futuristic office with wires and steel boxes, hearing a sound like a bonfire burning all of Time. He remembered the enticing advertisements promising a reversal of time with a mere touch of a hand, where everything could return to its beginning.\n"
     ]
    }
   ],
   "source": [
    "delimiter = \"####\"\n",
    "system_message = f\"\"\"\n",
    "Summarize this text referencing quotes and details from it.\\\n",
    "This may include visual or auditory detail.\\\n",
    "The summary should also be in the same narrative format as the original text. \\\n",
    "The user input \\\n",
    "message will be delimited with {delimiter} characters.\n",
    "\"\"\"\n",
    "input_user_message = f\"\"\"\n",
    "The sign on the wall seemed to quaver under a film of sliding warm water. Eckels felt his eyelids blink over his stare, and the sign burned in this momentary darkness:\n",
    "TIME SAFARI, INC.\n",
    " SAFARIS TO ANY YEAR IN THE PAST. YOU NAME THE ANIMAL.\n",
    " WE TAKE YOU THERE.\n",
    " YOU SHOOT IT.\n",
    "Warm phlegm gathered in Eckels' throat; he swallowed and pushed it down. The muscles around his mouth formed a smile as he put his hand slowly out upon the air, and in that hand waved a check for ten thousand dollars to the man behind the desk.\n",
    "\"Does this safari guarantee I come back alive?\"\n",
    "\"We guarantee nothing,\" said the official, \"except the dinosaurs.\" He turned. \"This is Mr. Travis, your Safari Guide in the Past. He'll tell you what and where to shoot. If he says no shooting, no shooting. If you disobey instructions, there's a stiff penalty of another ten thousand dollars, plus possible government action, on your return.\"\n",
    "Eckels glanced across the vast office at a mass and tangle, a snaking and humming of wires and steel boxes, at an aurora that flickered now orange, now silver, now blue. There was a sound like a gigantic bonfire burning all of Time, all the years and all the parchment calendars, all the hours piled high and set aflame.\n",
    "A touch of the hand and this burning would, on the instant, beautifully reverse itself. Eckels remembered the wording in the advertisements to the letter. Out of chars and ashes, out of dust and coals, like golden salamanders, the old years, the green years, might leap; roses sweeten the air, white hair turn Irishblack, wrinkles vanish; all, everything fly back to seed, flee death, rush down to their beginnings, suns rise in western skies and set in glorious easts, moons eat themselves opposite to the custom, all and everything cupping one in another like Chinese boxes, rabbits into hats, all and everything returning to the fresh death, the seed death, the green death, to the time before the beginning. A touch of a hand might do it, the merest touch of a hand.\n",
    "\"\"\"\n",
    "\n",
    "# remove possible delimiters in the user's message\n",
    "input_user_message = input_user_message.replace(delimiter, \"\")\n",
    "\n",
    "user_message_for_model = f\"\"\"User message, \\\n",
    "remember that your response to the user \\\n",
    "must be in English: \\\n",
    "{delimiter}{input_user_message}{delimiter}\n",
    "\"\"\"\n",
    "\n",
    "messages =  [  \n",
    "{'role':'system', 'content': system_message},    \n",
    "{'role':'user', 'content': user_message_for_model},  \n",
    "] \n",
    "response = get_text_from_messages(messages)\n",
    "print(response)"
   ]
  },
  {
   "cell_type": "code",
   "execution_count": 72,
   "metadata": {},
   "outputs": [],
   "source": [
    "def get_summary(input_message, message_type = 0, title = None, author = None):\n",
    "    added = 'This may include '\n",
    "    if message_type == 0:\n",
    "        added += 'notable visual and auditory detail'\n",
    "    if title:\n",
    "        title_author = f\", {title}\"\n",
    "        if author:\n",
    "            title_author += \"by {author},\"\n",
    "        else:\n",
    "            title_author + ','\n",
    "    genre = \"narrative\"\n",
    "    if message_type == 0:\n",
    "        genre = 'storytelling'\n",
    "    else:\n",
    "        genre = 'narrative'\n",
    "    delimiter = \"####\"\n",
    "    system_message = f\"\"\"\n",
    "    Summarize this text {title_author} referencing quotes and details from it.\\\n",
    "    {added}\\\n",
    "    The summary should also be in the same {genre} format as the original text. \\\n",
    "    The user input \\\n",
    "    message will be delimited with {delimiter} characters.\n",
    "    \"\"\"\n",
    "    # remove possible delimiters in the user's message\n",
    "    input_message = input_message.replace(delimiter, \"\")\n",
    "\n",
    "    user_message_for_model = f\"\"\"\n",
    "    {delimiter}{input_message}{delimiter}\n",
    "    \"\"\"\n",
    "\n",
    "    messages =  [  \n",
    "    {'role':'system', 'content': system_message},    \n",
    "    {'role':'user', 'content': user_message_for_model},  \n",
    "    ] \n",
    "    response = get_text_from_messages(messages)\n",
    "    return response"
   ]
  },
  {
   "cell_type": "code",
   "execution_count": 74,
   "metadata": {},
   "outputs": [
    {
     "data": {
      "text/plain": [
       "'In \"A Sound of Thunder\" by Ray Bradbury, Eckels visits Time Safari, Inc. where he pays for a safari to the past to hunt dinosaurs. The official warns him of strict rules and penalties for disobeying instructions. Eckels is mesmerized by the futuristic office with its humming wires and steel boxes, and the aurora that flickers in different colors. He contemplates the power to change history with a simple touch, imagining a world where time reverses itself and everything returns to its beginnings. The vivid descriptions create a sense of wonder and danger as Eckels prepares to embark on his journey to the past.'"
      ]
     },
     "execution_count": 74,
     "metadata": {},
     "output_type": "execute_result"
    }
   ],
   "source": [
    "input_user_message = f\"\"\"\n",
    "    The sign on the wall seemed to quaver under a film of sliding warm water. Eckels felt his eyelids blink over his stare, and the sign burned in this momentary darkness:\n",
    "    TIME SAFARI, INC.\n",
    "    SAFARIS TO ANY YEAR IN THE PAST. YOU NAME THE ANIMAL.\n",
    "    WE TAKE YOU THERE.\n",
    "    YOU SHOOT IT.\n",
    "    Warm phlegm gathered in Eckels' throat; he swallowed and pushed it down. The muscles around his mouth formed a smile as he put his hand slowly out upon the air, and in that hand waved a check for ten thousand dollars to the man behind the desk.\n",
    "    \"Does this safari guarantee I come back alive?\"\n",
    "    \"We guarantee nothing,\" said the official, \"except the dinosaurs.\" He turned. \"This is Mr. Travis, your Safari Guide in the Past. He'll tell you what and where to shoot. If he says no shooting, no shooting. If you disobey instructions, there's a stiff penalty of another ten thousand dollars, plus possible government action, on your return.\"\n",
    "    Eckels glanced across the vast office at a mass and tangle, a snaking and humming of wires and steel boxes, at an aurora that flickered now orange, now silver, now blue. There was a sound like a gigantic bonfire burning all of Time, all the years and all the parchment calendars, all the hours piled high and set aflame.\n",
    "    A touch of the hand and this burning would, on the instant, beautifully reverse itself. Eckels remembered the wording in the advertisements to the letter. Out of chars and ashes, out of dust and coals, like golden salamanders, the old years, the green years, might leap; roses sweeten the air, white hair turn Irishblack, wrinkles vanish; all, everything fly back to seed, flee death, rush down to their beginnings, suns rise in western skies and set in glorious easts, moons eat themselves opposite to the custom, all and everything cupping one in another like Chinese boxes, rabbits into hats, all and everything returning to the fresh death, the seed death, the green death, to the time before the beginning. A touch of a hand might do it, the merest touch of a hand.\n",
    "    \"\"\"\n",
    "\n",
    "message_type = 0\n",
    "get_summary(input_user_message, message_type, \"A Sound of Thunder\", \"Ray Bradbury\")"
   ]
  },
  {
   "cell_type": "code",
   "execution_count": 70,
   "metadata": {},
   "outputs": [],
   "source": [
    "def get_image(input_message, message_type = 0, title = None, author = None):\n",
    "    response = generate_image_from_description(description = input_message)\n",
    "    return response"
   ]
  },
  {
   "cell_type": "code",
   "execution_count": 73,
   "metadata": {},
   "outputs": [
    {
     "data": {
      "text/plain": [
       "'https://oaidalleapiprodscus.blob.core.windows.net/private/org-XSkwm73bL0mx6bBBPlcZAGhH/user-PRpqn32bfoZlh94TediQwFwa/img-GPMn6PL5SOViCtcFXY2CHDzk.png?st=2024-06-22T21%3A46%3A49Z&se=2024-06-22T23%3A46%3A49Z&sp=r&sv=2023-11-03&sr=b&rscd=inline&rsct=image/png&skoid=6aaadede-4fb3-4698-a8f6-684d7786b067&sktid=a48cca56-e6da-484e-a814-9c849652bcb3&skt=2024-06-21T23%3A40%3A23Z&ske=2024-06-22T23%3A40%3A23Z&sks=b&skv=2023-11-03&sig=P1z28iNAF5nwirvXWdgrHs9FtcV/tgd5eU/SN8x5G00%3D'"
      ]
     },
     "execution_count": 73,
     "metadata": {},
     "output_type": "execute_result"
    }
   ],
   "source": [
    "get_image(get_summary(input_user_message, message_type, \"A Sound of Thunder\", \"Ray Bradbury\"))"
   ]
  },
  {
   "cell_type": "code",
   "execution_count": null,
   "metadata": {},
   "outputs": [],
   "source": []
  },
  {
   "cell_type": "code",
   "execution_count": null,
   "metadata": {},
   "outputs": [],
   "source": []
  }
 ],
 "metadata": {
  "kernelspec": {
   "display_name": "test2",
   "language": "python",
   "name": "python3"
  },
  "language_info": {
   "codemirror_mode": {
    "name": "ipython",
    "version": 3
   },
   "file_extension": ".py",
   "mimetype": "text/x-python",
   "name": "python",
   "nbconvert_exporter": "python",
   "pygments_lexer": "ipython3",
   "version": "3.12.4"
  },
  "orig_nbformat": 4
 },
 "nbformat": 4,
 "nbformat_minor": 2
}
